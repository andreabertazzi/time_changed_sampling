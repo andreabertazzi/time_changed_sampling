{
 "cells": [
  {
   "cell_type": "code",
   "execution_count": 1,
   "metadata": {},
   "outputs": [],
   "source": [
    "parent_dir = joinpath(@__DIR__, \"..\")\n",
    "include(joinpath(parent_dir, \"helper_split.jl\"))\n",
    "include(joinpath(parent_dir, \"algorithms.jl\"))\n",
    "include(joinpath(parent_dir, \"helper_tt.jl\"))\n",
    "\n",
    "using Distributions, ForwardDiff, Plots"
   ]
  },
  {
   "cell_type": "markdown",
   "metadata": {},
   "source": [
    "Set up the target, a mixture of 13 standard normals with equal weights"
   ]
  },
  {
   "cell_type": "code",
   "execution_count": 2,
   "metadata": {},
   "outputs": [],
   "source": [
    "dim = 2\n",
    "μ = Vector{Vector{Float64}}()\n",
    "push!(μ, zeros(dim))\n",
    "push!(μ, -10*ones(dim))\n",
    "push!(μ, [10.,10.])\n",
    "push!(μ, [10.,-10.])\n",
    "push!(μ, [-10.,10.])\n",
    "push!(μ, [20.,0.])\n",
    "push!(μ, [-20.,0.])\n",
    "push!(μ, [0.,-20.])\n",
    "push!(μ, [0.,20.])\n",
    "push!(μ, [20.,20.])\n",
    "push!(μ, [20.,-20.])\n",
    "push!(μ, [-20.,20.])\n",
    "push!(μ, [-20.,-20.])\n",
    "nr_mixtures = length(μ)\n",
    "λ = 1/nr_mixtures\n",
    "correlation = 0\n",
    "Σ = correlation*ones(dim,dim) + (1-correlation)I\n",
    "Σ_inv = inv(Σ)\n",
    "# mixtures = [gaussian_pdf(i,Σ, Σ_inv) for i ∈ μ]\n",
    "mixtures = [gaussian_pdf(μ[i],Σ, Σ_inv) for i in eachindex(μ)]\n",
    "# mixtures = [gaussian_pdf(μ[i],Σ, Σ_inv) for i = 1:nr_mixtures]\n",
    "\n",
    "function target(x::Vector)\n",
    "    fn = 0\n",
    "    for i = 1:nr_mixtures\n",
    "        fn = fn + λ * mixtures[i](x)\n",
    "    end\n",
    "    fn\n",
    "end\n",
    "\n",
    "U(x)  = -log(target(x))\n",
    "∇U(x) = ForwardDiff.gradient(U,x);"
   ]
  },
  {
   "cell_type": "markdown",
   "metadata": {},
   "source": [
    "Plot the target distribution"
   ]
  },
  {
   "cell_type": "code",
   "execution_count": null,
   "metadata": {},
   "outputs": [],
   "source": [
    "x = range(-50, stop = 50, length = 1000)\n",
    "y = range(-35, stop = 35, length = 1000)\n",
    "contour(x, y, (x, y) -> (target([x,y])),color=:plasma,ratio=:equal)\n",
    "\n",
    "# contour!(x, y, (x, y) -> (target([x,y]))^(1-α))\n",
    "# savefig(string(\"levelcurves_gaussian_mixture_alpha_\",α,\".pdf\"))"
   ]
  },
  {
   "cell_type": "markdown",
   "metadata": {},
   "source": [
    "Choose the speed function and define the base target distribution"
   ]
  },
  {
   "cell_type": "code",
   "execution_count": 75,
   "metadata": {},
   "outputs": [],
   "source": [
    "α = 0.9\n",
    "s(x)  = exp(α*U(x))\n",
    "∇U_s(x) = (1-α)*∇U(x)\n",
    "unnorm_target_s(x) = s(x) * exp(-U(x));"
   ]
  },
  {
   "cell_type": "markdown",
   "metadata": {},
   "source": [
    "We consider two alternatives:\n",
    "\n",
    "1. Simulate a path of the continuous-time ZZP targeting the base distribution, then discretise it, build a time-changed jump process, and finally discretise it.\n",
    "\n",
    "2. Simulate the Metropolis-adjusted ZZP (Bertazzi, Dobson, Monmarché (2023)) targeting the base distribution, build a time-changed jump process, and finally discretise it."
   ]
  },
  {
   "cell_type": "markdown",
   "metadata": {},
   "source": [
    "We start with the first option."
   ]
  },
  {
   "cell_type": "markdown",
   "metadata": {},
   "source": [
    "First, we simulate a ZZP targeting the base distribution."
   ]
  },
  {
   "cell_type": "code",
   "execution_count": null,
   "metadata": {},
   "outputs": [],
   "source": [
    "m = minimum(μ)\n",
    "M = maximum(μ)\n",
    "Hessian_bound_alpha = diagm(((1-α) * (1 .+ 0.25 * (M.-m).^2)));   #computational bounds to simulate the ZZP targeting the base distribution\n",
    "\n",
    "T = 3 * 10^4\n",
    "x_init = zeros(dim)\n",
    "v_init = rand((-1,1),dim)\n",
    "skele = ZigZag(∇U_s, Hessian_bound_alpha, T, x_init,v_init)\n",
    "\n",
    "pos1 = [skele[i].position[1] for i in eachindex(skele)]\n",
    "pos2 = [skele[i].position[2] for i in eachindex(skele)]\n",
    "p_std = plot(pos1,pos2, label = \"\", lc = \"red\",lw = 1.5, \n",
    "                xlabel = L\"x_1\", ylabel = L\"x_2\",\n",
    "                xlim = [-50,50], ratio=:equal, grid=:none, \n",
    "                )\n",
    "# p_std = scatter!(Tuple.(μ), label=\"Modes\", markershape=:diamond, markercolor=\"green\",legend=:bottomright)\n",
    "display(p_std)\n",
    "savefig(\"zzp_gaussmixture.pdf\")"
   ]
  },
  {
   "cell_type": "markdown",
   "metadata": {},
   "source": [
    "Then, we discretise the trajectories."
   ]
  },
  {
   "cell_type": "code",
   "execution_count": null,
   "metadata": {},
   "outputs": [],
   "source": [
    "delta = 2.\n",
    "discr_chain = discretise_from_skeleton(skele,delta)\n",
    "display(scatter(Tuple.(discr_chain),label =\"\",markersize=:2, color=:\"red\",\n",
    "        # alpha=:0.25,\n",
    "        markerstrokewidth=0,\n",
    "        xlabel = L\"x_1\", ylabel = L\"x_2\",\n",
    "        xlim = [-50,50], ratio=:equal, grid=:none, ))\n",
    "# display(scatter!(Tuple.(μ), label=\"Modes\", markershape=:diamond, markercolor=\"green\",legend=:bottomright))\n",
    "savefig(\"zzp_discretised_mixture.pdf\")"
   ]
  },
  {
   "cell_type": "markdown",
   "metadata": {},
   "source": [
    "Finally, we build the time-changed jump process with the discretised output and finally discretise the jump process."
   ]
  },
  {
   "cell_type": "code",
   "execution_count": null,
   "metadata": {},
   "outputs": [],
   "source": [
    "skele_jump = make_into_jumpproc(discr_chain, s)\n",
    "delta_jump = .005\n",
    "discr_jump = discretise_jumpprocess(skele_jump,delta_jump)\n",
    "display(scatter(Tuple.(discr_jump),label =\"\",markersize=:2, color=:\"red\",\n",
    "            alpha=:0.25,\n",
    "            markerstrokewidth=0,\n",
    "            xlabel = L\"x_1\", ylabel = L\"x_2\",\n",
    "            xlim = [-50,50], ratio=:equal, grid=:none, ))\n",
    "# display(scatter!(Tuple.(μ), label=\"Modes\", markershape=:diamond, markercolor=\"green\",legend=:bottomright))\n",
    "savefig(\"TC-zzp_mixture.pdf\")"
   ]
  },
  {
   "cell_type": "markdown",
   "metadata": {},
   "source": [
    "Now, we focus on the second approach."
   ]
  },
  {
   "cell_type": "code",
   "execution_count": null,
   "metadata": {},
   "outputs": [],
   "source": [
    "δ = .5\n",
    "N = 5 * 10^4\n",
    "x_init = zeros(dim)\n",
    "v_init = rand((-1,1),2)\n",
    "chain = zzs_metropolis_randstepsize(unnorm_target_s,∇U_s,δ,N,x_init,v_init)\n",
    "scatter(Tuple.([ch.position for (_,ch) in enumerate(chain)]),label =\"\",markersize=:1, color=:\"red\",markerstrokewidth=0,\n",
    "        xlabel = L\"x_1\", ylabel = L\"x_2\",\n",
    "        xlim = [-50,50], ratio=:equal, grid=:none, )\n",
    "display(scatter!(Tuple.(μ), label=\"Modes\", markershape=:diamond, markercolor=\"green\",legend=:bottomright))\n",
    "# savefig(\"metropolis_zzp_mixture.pdf\")"
   ]
  },
  {
   "cell_type": "markdown",
   "metadata": {},
   "source": [
    "Finally, we construct the time-changed jump process and discretise it."
   ]
  },
  {
   "cell_type": "code",
   "execution_count": null,
   "metadata": {},
   "outputs": [],
   "source": [
    "jump_proc = make_into_jumpproc(chain, s)\n",
    "delta_jump = 0.02\n",
    "discr_jump = discretise_jumpprocess(jump_proc,delta_jump)\n",
    "display(scatter(Tuple.(discr_jump),label =\"\",markersize=:2, color=:\"red\",\n",
    "            alpha=:0.25,\n",
    "            markerstrokewidth=0,\n",
    "            xlabel = L\"x_1\", ylabel = L\"x_2\",\n",
    "            xlim = [-50,50], ratio=:equal, grid=:none, ))\n",
    "# display(scatter!(Tuple.(μ), label=\"Modes\", markershape=:diamond, markercolor=\"green\",legend=:bottomright))\n",
    "# savefig(\"TC-metropolis_zzp_mixture.pdf\")"
   ]
  },
  {
   "cell_type": "markdown",
   "metadata": {},
   "source": [
    "Now we compare it to the standard Metropolis-adjusted ZZP, i.e. setting s(x)=1."
   ]
  },
  {
   "cell_type": "code",
   "execution_count": null,
   "metadata": {},
   "outputs": [],
   "source": [
    "α = 0.\n",
    "s(x)  = 1\n",
    "∇U_s(x) = ∇U(x)\n",
    "unnorm_target_s(x) = exp(-U(x))\n",
    "\n",
    "δ = .5\n",
    "N = 5 * 10^4\n",
    "x_init = zeros(dim)\n",
    "v_init = rand((-1,1),2)\n",
    "chain = zzs_metropolis_randstepsize(unnorm_target_s,∇U_s,δ,N,x_init,v_init)\n",
    "jump_proc = make_into_jumpproc(chain, s)\n",
    "delta_jump = 20.\n",
    "discr_jump = discretise_jumpprocess(jump_proc,delta_jump)\n",
    "display(scatter(Tuple.(discr_jump),label =\"\",markersize=:2, color=:\"red\",\n",
    "            alpha=:0.15,\n",
    "            markerstrokewidth=0,\n",
    "            xlabel = L\"x_1\", ylabel = L\"x_2\",\n",
    "            xlim = [-50,50], ratio=:equal, grid=:none, ))\n",
    "# savefig(\"jump_metropolis_zzp_mixture.pdf\")"
   ]
  }
 ],
 "metadata": {
  "kernelspec": {
   "display_name": "Julia 1.10.4",
   "language": "julia",
   "name": "julia-1.10"
  },
  "language_info": {
   "file_extension": ".jl",
   "mimetype": "application/julia",
   "name": "julia",
   "version": "1.10.4"
  }
 },
 "nbformat": 4,
 "nbformat_minor": 2
}
