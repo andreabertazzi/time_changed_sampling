{
 "cells": [
  {
   "cell_type": "code",
   "execution_count": null,
   "metadata": {},
   "outputs": [],
   "source": [
    "parent_dir = joinpath(@__DIR__, \"..\")\n",
    "include(joinpath(parent_dir, \"helper_split.jl\"))\n",
    "include(joinpath(parent_dir, \"algorithms.jl\"))\n",
    "include(joinpath(parent_dir, \"helper_tt.jl\"))\n",
    "\n",
    "using Distributions\n",
    "using ForwardDiff\n",
    "using LinearAlgebra\n",
    "using Plots"
   ]
  },
  {
   "cell_type": "code",
   "execution_count": null,
   "metadata": {},
   "outputs": [],
   "source": [
    "dim = 1\n",
    "nr_mixtures = 2\n",
    "λ = 1/nr_mixtures\n",
    "μ = Vector{Vector{Float64}}(undef,nr_mixtures)\n",
    "μ[1] =  10*ones(dim)\n",
    "μ[2] = -10*ones(dim)\n",
    "μ /= 2\n",
    "correlation = 0\n",
    "Σ = 1.0 * Matrix(I,dim,dim)\n",
    "Σ_inv = inv(Σ)\n",
    "# mixtures = [gaussian_pdf(i,Σ, Σ_inv) for i ∈ μ]\n",
    "mixtures = [gaussian_pdf(μ[i],Σ, Σ_inv) for i in eachindex(μ)]\n",
    "# mixtures = [gaussian_pdf(μ[i],Σ, Σ_inv) for i = 1:nr_mixtures]\n",
    "\n",
    "function target(x::Vector)\n",
    "    fn = 0\n",
    "    for i = 1:nr_mixtures\n",
    "        fn = fn + λ * mixtures[i](x)\n",
    "    end\n",
    "    fn\n",
    "end\n",
    "# target(x::Vector) = λ * mixtures[1](x) + λ * mixtures[2](x)\n",
    "U(x)  = -log(target(x))\n",
    "∇U(x) = ForwardDiff.gradient(U,x)\n",
    "m = minimum(μ)[]\n",
    "M = maximum(μ)[]\n",
    "Hessian_bound = (1 + 0.25 * (M-m)^2)\n",
    "α = 0.7\n",
    "Hessian_bound_alpha = ((1-α) * (1 + 0.25 * (M-m)^2)) * Matrix(I,dim,dim)\n",
    "s(x)  = exp(α*U(x))\n",
    "∇U_s(x) = (1-α)*∇U(x)\n",
    "unnorm_target_s(x) = s(x) * exp(-U(x))"
   ]
  },
  {
   "cell_type": "code",
   "execution_count": null,
   "metadata": {},
   "outputs": [],
   "source": [
    "T = 2 * 10^2\n",
    "x_init = μ[1]\n",
    "v_init = rand((-1,1),dim)\n",
    "skele = ZigZag(∇U_s, Hessian_bound_alpha, T, x_init,v_init)\n",
    "\n",
    "\n",
    "pos = [skele[i].position for i in eachindex(skele)]\n",
    "times = [skele[i].time for i in eachindex(skele)]\n",
    "p_std = hline(μ[2], lc=:grey,label = \"\", lw=0.5)\n",
    "hline!(μ[1], lc=:grey,label = \"\", lw=0.5)\n",
    "plot!(times,vcat(pos...), label = \"\", lc = \"red\",\n",
    "                lw = 1.5, grid=:none, xlabel = \"time\", ylabel = \"position\",\n",
    "                xlims = [0,1.02 * times[end]], ylims = [-22,22])\n",
    "display(p_std)"
   ]
  },
  {
   "cell_type": "code",
   "execution_count": null,
   "metadata": {},
   "outputs": [],
   "source": [
    "delta = 1e-1\n",
    "discretised = discretise_from_skeleton(skele,delta)\n",
    "# plot!(range(0, step=delta, length=length(discretised)),vcat(discretised...))\n",
    "\n",
    "chain_tt = approximate_timechanged_skele(discretised, s, delta)\n",
    "times_tt = [chain_tt[n].time for n in eachindex(chain_tt)]\n",
    "positions = [chain_tt[n].position for n in eachindex(chain_tt)]\n",
    "speeds = [chain_tt[n].speed for n in eachindex(chain_tt)]\n",
    "\n",
    "p_tt = hline(μ[2], lc=:grey,label = \"\", lw=0.5)\n",
    "hline!(μ[1], lc=:grey,label = \"\", lw=0.5)\n",
    "plot!(times_tt, vcat(positions...), label = \"\", lc = \"red\",\n",
    "                lw = 1.5, grid=:none, xlabel = \"time\", ylabel = \"position\",\n",
    "                xlims = [0,1.02 * times_tt[end]], ylims = [-22,22])\n",
    "display(p_tt)"
   ]
  }
 ],
 "metadata": {
  "kernelspec": {
   "display_name": "Julia 1.10.4",
   "language": "julia",
   "name": "julia-1.10"
  },
  "language_info": {
   "file_extension": ".jl",
   "mimetype": "application/julia",
   "name": "julia",
   "version": "1.10.4"
  }
 },
 "nbformat": 4,
 "nbformat_minor": 2
}
