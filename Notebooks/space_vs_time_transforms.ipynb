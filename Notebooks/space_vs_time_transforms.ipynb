{
 "cells": [
  {
   "cell_type": "code",
   "execution_count": 4,
   "metadata": {},
   "outputs": [],
   "source": [
    "parent_dir = joinpath(@__DIR__, \"..\")\n",
    "include(joinpath(parent_dir, \"helper_split.jl\"))\n",
    "include(joinpath(parent_dir, \"algorithms.jl\"))\n",
    "include(joinpath(parent_dir, \"helper_tt.jl\"))\n",
    "\n",
    "using Distributions,ForwardDiff,LinearAlgebra,Plots"
   ]
  },
  {
   "cell_type": "markdown",
   "metadata": {},
   "source": [
    "Set up the target, the space transform, and the speed function:"
   ]
  },
  {
   "cell_type": "code",
   "execution_count": null,
   "metadata": {},
   "outputs": [],
   "source": [
    "dim = 2\n",
    "\n",
    "s(x)  = (1 + norm(x)^2)^((dim + 1)/2)\n",
    "∇s(x) = (dim + 1) * (1 + norm(x)^2)^((dim - 1)/2) * x\n",
    "H_inv(x) = x / ((1 + norm(x)^2)^(1/2))\n",
    "H(y) = y / ((1-norm(y)^2)^(1/2))\n",
    "\n",
    "# nu = 15\n",
    "# p = dim\n",
    "# ∇U(x) = ((nu + p) / nu) * x / (1 + norm(x)^2/nu)\n",
    "# Hessian_bound_alpha = diagm((nu + p) * ones(dim))\n",
    "# U(x) = 0.5 * (nu + p) * log((1 + nu^(-1) * transpose(x) * x))\n",
    "\n",
    "U(x)  = 0.5 * norm(x)^2\n",
    "∇U(x) = x\n",
    "norm_const = 1 / sqrt(2 * pi)\n",
    "Hessian_bound_alpha = diagm((dim + 1)^2 * ones(dim))\n",
    "target(x) = norm_const * exp(-U(x))\n",
    "∇U_s(x) = ∇U(x) - ∇s(x)/s(x)\n",
    "unnorm_target_s(x) = s(x) * exp(-U(x))\n"
   ]
  },
  {
   "cell_type": "markdown",
   "metadata": {},
   "source": [
    "Plot the base distribution for the time-changed process"
   ]
  },
  {
   "cell_type": "code",
   "execution_count": null,
   "metadata": {},
   "outputs": [],
   "source": [
    "x = range(-4, stop = 4, length = 1000)\n",
    "y = range(-4, stop = 4, length = 1000)\n",
    "contourf(x, y, (x, y) -> (unnorm_target_s([x,y])),color=:plasma,ratio=:equal)"
   ]
  },
  {
   "cell_type": "markdown",
   "metadata": {},
   "source": [
    "Produce the first plot: time-changed ZZP with speed s"
   ]
  },
  {
   "cell_type": "code",
   "execution_count": null,
   "metadata": {},
   "outputs": [],
   "source": [
    "T = 1 * 10^2\n",
    "delta = 1e-2\n",
    "x_init = zeros(dim)\n",
    "v_init = rand((-1,1),dim)\n",
    "skele = ZigZag(∇U_s, Hessian_bound_alpha, T, x_init,v_init)\n",
    "\n",
    "chain_tt = approximate_timechanged_skele(skele, s, delta)  # this gives skeleton\n",
    "pos1 = [x.position[1] for (_,x) in enumerate(chain_tt)]\n",
    "pos2 = [x.position[2] for (_,x) in enumerate(chain_tt)]\n",
    "pos = [x.position for (_,x) in enumerate(chain_tt)]\n",
    "speeds = [norm(pos[i+1]-pos[i])/(chain_tt[i+1].time - chain_tt[i].time) for i = 1 : length(chain_tt)-1]\n",
    "push!(speeds, speeds[end])\n",
    "# speeds = [s(x.position) for (_,x) in enumerate(chain_tt)]\n",
    "p_tt = plot(pos1, pos2, label = \"\", \n",
    "                # lc = \"red\",\n",
    "                lw = 1.5, grid=:none, xlabel = L\"x_1\", ylabel = L\"x_2\",\n",
    "                # color=:darktest,\n",
    "                line_z = log.(speeds),\n",
    "                clim = (0.2,4.7),\n",
    "                aspect_ratio=:equal,\n",
    "                # xlims = [-4,4], \n",
    "                ylims = [-4,4]\n",
    "                )\n",
    "display(p_tt) \n",
    "# StatsPlots.savefig(\"timechanged.pdf\")"
   ]
  },
  {
   "cell_type": "markdown",
   "metadata": {},
   "source": [
    "Now produce the second plot: apply the corresponding space transformation to the time-changed ZZP"
   ]
  },
  {
   "cell_type": "code",
   "execution_count": null,
   "metadata": {},
   "outputs": [],
   "source": [
    "transformed_pos = [H_inv(x.position) for (_,x) in enumerate(chain_tt)]\n",
    "speeds_space = [norm(transformed_pos[i+1]-transformed_pos[i]) / (chain_tt[i+1].time - chain_tt[i].time) for i = 1 : length(transformed_pos)-1]\n",
    "push!(speeds_space, speeds_space[end])\n",
    "\n",
    "pos_transf_1 = [x[1] for (_,x) in enumerate(transformed_pos)]\n",
    "pos_transf_2 = [x[2] for (_,x) in enumerate(transformed_pos)]\n",
    "p_space = plot(pos_transf_1, pos_transf_2, label = \"\", \n",
    "                # markershape=:x,\n",
    "                lw = 1.5, grid=:none, xlabel = L\"x_1\", ylabel = L\"x_2\",\n",
    "                # color=:darktest,\n",
    "                line_z = log.(speeds_space),\n",
    "                clim = (0.2,4.7),\n",
    "                aspect_ratio=:equal,\n",
    "                )\n",
    "theta = 0:0.01:2π\n",
    "p_space = plot!(cos.(theta),sin.(theta), lc=\"green\", lw = 3, label=\"\",aspect_ratio=:equal)\n",
    "display(p_space)\n",
    "# StatsPlots.savefig(\"timechanged_circle.pdf\")"
   ]
  },
  {
   "cell_type": "markdown",
   "metadata": {},
   "source": [
    "Check what is the minimum and maximum speed of the process in the circle"
   ]
  },
  {
   "cell_type": "code",
   "execution_count": null,
   "metadata": {},
   "outputs": [],
   "source": [
    "m = minimum(speeds_space)\n",
    "M = maximum(speeds_space)\n",
    "println(\"The minimum speed is $m, while the maximum speed is $M\")"
   ]
  },
  {
   "cell_type": "markdown",
   "metadata": {},
   "source": [
    "Plot the base distribution for the space-transformed process"
   ]
  },
  {
   "cell_type": "code",
   "execution_count": null,
   "metadata": {},
   "outputs": [],
   "source": [
    "using GR \n",
    "ρ = LinRange(0., 0.999, 200) \n",
    "θ = LinRange(0., 2π, 360) \n",
    "polar_function(rh, th) = s(H([rh*cos(th),rh*sin(th)])) * target(H([rh*cos(th),rh*sin(th)]))\n",
    "polarheatmap(polar_function.(ρ,θ'))"
   ]
  },
  {
   "cell_type": "markdown",
   "metadata": {},
   "source": [
    "Obtain the base process in the circle using a splitting scheme approximation of Zig-Zag"
   ]
  },
  {
   "cell_type": "code",
   "execution_count": null,
   "metadata": {},
   "outputs": [],
   "source": [
    "δ = 2e-3\n",
    "T = 3 * 10^1\n",
    "N = Int(ceil(T/δ))\n",
    "x_init = zeros(dim)\n",
    "v_init = rand((-1,1),dim)\n",
    "# ∇U_tilde(y) = y * ( norm(y)^2 / ((1-norm(y)^2)^2) - dim / (1-norm(y)^2))\n",
    "∇U_tilde(y) = y / ((1-norm(y)^2)^2) * (norm(y)^2 - (dim+1) * (1-norm(y)^2))\n",
    "skele_split = splitting_zzs_DBD(∇U_tilde, δ, N,x_init,v_init)\n",
    "pos1 = [sk.position[1] for (_,sk) in enumerate(skele_split)]\n",
    "pos2 = [sk.position[2] for (_,sk) in enumerate(skele_split)]\n",
    "plot(pos1,pos2,label=\"\", lw = 1.5, lc = \"black\",grid=:none, \n",
    "    line_z = log.(ones(length(pos1)) * sqrt(dim)),\n",
    "    clim = (0.2,4.7),\n",
    "    xlabel = L\"x_1\", ylabel = L\"x_2\",)\n",
    "theta = 0:0.01:2π\n",
    "display(plot!(cos.(theta),sin.(theta), lc=\"green\", lw = 3, label=\"\",aspect_ratio=:equal))\n",
    "# StatsPlots.savefig(\"spacetransf_circle.pdf\")"
   ]
  },
  {
   "cell_type": "markdown",
   "metadata": {},
   "source": [
    "Now apply a space transformation to obtain the process on $\\mathbb{R}^2$"
   ]
  },
  {
   "cell_type": "code",
   "execution_count": null,
   "metadata": {},
   "outputs": [],
   "source": [
    "transformed_pos_split = [H(x.position) for (_,x) in enumerate(skele_split)]\n",
    "speeds_space_split = [norm(transformed_pos_split[i+1]-transformed_pos_split[i]) / (skele_split[i+1].time - skele_split[i].time) for i = 1 : length(transformed_pos_split)-1]\n",
    "push!(speeds_space_split, speeds_space_split[end])\n",
    "\n",
    "pos_transf_1 = [x[1] for (_,x) in enumerate(transformed_pos_split)]\n",
    "pos_transf_2 = [x[2] for (_,x) in enumerate(transformed_pos_split)]\n",
    "p_space = plot(pos_transf_1, pos_transf_2, label = \"\", \n",
    "                # markershape=:x,\n",
    "                lw = 1.5, grid=:none, xlabel = L\"x_1\", ylabel = L\"x_2\",\n",
    "                # color=:darktest,\n",
    "                line_z = log.(speeds_space_split),\n",
    "                clim = (0.2,4.7),\n",
    "                aspect_ratio=:equal,\n",
    "                # xlims = [-4,4], \n",
    "                ylims = [-4,4]\n",
    "                )\n",
    "display(p_space)\n",
    "# StatsPlots.savefig(\"spacetransf.pdf\")"
   ]
  }
 ],
 "metadata": {
  "kernelspec": {
   "display_name": "Julia 1.10.4",
   "language": "julia",
   "name": "julia-1.10"
  },
  "language_info": {
   "file_extension": ".jl",
   "mimetype": "application/julia",
   "name": "julia",
   "version": "1.10.4"
  }
 },
 "nbformat": 4,
 "nbformat_minor": 2
}
