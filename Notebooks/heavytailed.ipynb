{
 "cells": [
  {
   "cell_type": "code",
   "execution_count": 2,
   "metadata": {},
   "outputs": [],
   "source": [
    "parent_dir = joinpath(@__DIR__, \"..\")\n",
    "include(joinpath(parent_dir, \"helper_split.jl\"))\n",
    "include(joinpath(parent_dir, \"algorithms.jl\"))\n",
    "include(joinpath(parent_dir, \"helper_tt.jl\"))\n",
    "\n",
    "using Distributions\n",
    "using LinearAlgebra\n",
    "using Plots"
   ]
  },
  {
   "cell_type": "code",
   "execution_count": null,
   "metadata": {},
   "outputs": [],
   "source": [
    "# Setup target\n",
    "dim = 2\n",
    "nu = 5\n",
    "p = dim\n",
    "α = 2\n",
    "s(x)  = (1+norm(x)^2)^α\n",
    "unnorm_target_s(x) = s(x) * (1 + nu^(-1) * transpose(x) * Σ_inv * x)^(-0.5 * (nu + p))\n",
    "∇U(x) = ((nu + p) / nu) * x / (1 + norm(x)^2/nu)\n",
    "∇s(x) = 2 * α * x * (1 + norm(x)^2)^(α - 1)\n",
    "∇U_s(x) = ∇U(x) - ∇s(x) / s(x)\n",
    "Hessian_bound_alpha = diagm((nu + p) * ones(dim));"
   ]
  },
  {
   "cell_type": "markdown",
   "metadata": {},
   "source": [
    " Time changed process implementation"
   ]
  },
  {
   "cell_type": "code",
   "execution_count": null,
   "metadata": {},
   "outputs": [],
   "source": [
    "T = 2 * 10^3\n",
    "x_init = randn(dim)\n",
    "v_init = rand((-1,1),dim)\n",
    "skele = ZigZag(∇U_s, Hessian_bound_alpha, T, x_init,v_init)\n",
    "\n",
    "delta = 0.1\n",
    "discretised = discretise_from_skeleton(skele,delta)\n",
    "pos_discr1 = [discretised[i][1] for i in eachindex(discretised)]\n",
    "pos_discr2 = [discretised[i][2] for i in eachindex(discretised)]\n",
    "\n",
    "chain_tt = approximate_timechanged_skele(discretised, s, delta)\n",
    "speeds = log.([s(discretised[i]) for i in eachindex(discretised)])\n",
    "limits = max(maximum(pos_discr1),maximum(pos_discr2)) + 10\n",
    "p_tt = plot(pos_discr1,pos_discr2, label = \"\", \n",
    "                color=:thermal, \n",
    "                # color=:darktest,\n",
    "                line_z = speeds,\n",
    "                lw = 1.5, \n",
    "                # grid=:none, \n",
    "                xlabel = L\"x_1\", ylabel = L\"x_2\",\n",
    "                xlims = [-limits,limits], ylims = [-limits,limits],\n",
    "                )\n",
    "display(p_tt)\n",
    "# savefig(\"heavytailed_tt.pdf\")"
   ]
  },
  {
   "cell_type": "markdown",
   "metadata": {},
   "source": [
    "Comparison with standard process"
   ]
  },
  {
   "cell_type": "code",
   "execution_count": null,
   "metadata": {},
   "outputs": [],
   "source": [
    "Hessian_bound_alpha = diagm((nu + p) * ones(dim))\n",
    "skele = ZigZag(∇U, Hessian_bound_alpha, T, x_init,v_init)\n",
    "\n",
    "\n",
    "pos1 = [skele[i].position[1] for i in eachindex(skele)]\n",
    "pos2 = [skele[i].position[2] for i in eachindex(skele)]\n",
    "p_std = plot(pos1,pos2, label = \"\", lc = \"red\",\n",
    "                lw = 1, xlabel = L\"x_1\", ylabel = L\"x_2\",\n",
    "                xlims = [-limits,limits], ylims = [-limits,limits],\n",
    "                )\n",
    "# savefig(\"heavytailed_standard_zz.pdf\")"
   ]
  }
 ],
 "metadata": {
  "kernelspec": {
   "display_name": "Julia 1.10.4",
   "language": "julia",
   "name": "julia-1.10"
  },
  "language_info": {
   "file_extension": ".jl",
   "mimetype": "application/julia",
   "name": "julia",
   "version": "1.10.4"
  }
 },
 "nbformat": 4,
 "nbformat_minor": 2
}
